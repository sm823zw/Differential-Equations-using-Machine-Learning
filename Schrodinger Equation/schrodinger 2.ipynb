{
 "cells": [
  {
   "cell_type": "code",
   "execution_count": 21,
   "source": [
    "import matplotlib.pyplot as plt\r\n",
    "import autograd.numpy as np\r\n",
    "import autograd\r\n",
    "from autograd.misc.optimizers import adam"
   ],
   "outputs": [],
   "metadata": {}
  },
  {
   "cell_type": "code",
   "execution_count": 22,
   "source": [
    "def initialize_nn(scale, n_neurons_per_layer):\r\n",
    "    params = []\r\n",
    "    for i, j in zip(n_neurons_per_layer[:-1], n_neurons_per_layer[1:]):\r\n",
    "        params.append((np.random.randn(i, j)*scale, np.random.randn(j)*scale))\r\n",
    "    return params\r\n",
    "\r\n",
    "def psi(nn_params, inputs):\r\n",
    "    for W, b in nn_params:\r\n",
    "        outputs = np.dot(inputs, W) + b\r\n",
    "        inputs = np.tanh(outputs)\r\n",
    "    return outputs\r\n",
    "\r\n",
    "psi_x = autograd.elementwise_grad(psi, 1)\r\n",
    "psi_xx = autograd.elementwise_grad(psi_x, 1)"
   ],
   "outputs": [],
   "metadata": {}
  },
  {
   "cell_type": "code",
   "execution_count": 30,
   "source": [
    "n_neurons_per_layer=[1, 40, 1]\r\n",
    "nn_params = initialize_nn(0.1, n_neurons_per_layer)\r\n",
    "\r\n",
    "params = {'nn_params': nn_params}\r\n",
    "L = 1\r\n",
    "x = np.linspace(0, L, 50)[:, None]\r\n",
    "\r\n",
    "def loss_function(params, step):\r\n",
    "    nn_params = params['nn_params']\r\n",
    "\r\n",
    "    H = - psi_xx(nn_params, x)\r\n",
    "    \r\n",
    "    bc0 = psi(nn_params, 0.0)\r\n",
    "    bc1 = psi(nn_params, L)\r\n",
    "\r\n",
    "    psi_sq = psi(nn_params, x)**2\r\n",
    "\r\n",
    "    I = np.sum((psi_sq[1:] + psi_sq[0:-1]) / 2 * (x[1:] - x[0:-1]))\r\n",
    "\r\n",
    "    A = psi(nn_params, x) * H\r\n",
    "    E = np.sum((A[1:] + A[0:-1]) / 2 * (x[1:] - x[0:-1]))/I\r\n",
    "\r\n",
    "    first_term = H - E * psi(nn_params, x) \r\n",
    "\r\n",
    "    loss = np.mean(first_term**2) + bc0**2 + bc1**2 + (1.0 - I)**2\r\n",
    "\r\n",
    "    return loss\r\n",
    "\r\n",
    "def callback(params, step, g):\r\n",
    "    if step % 100 == 0:\r\n",
    "        print(\"Epoch : {0:3d}, loss : {1}\".format(step, loss_function(params, step)[0][0]))"
   ],
   "outputs": [],
   "metadata": {}
  },
  {
   "cell_type": "code",
   "execution_count": 31,
   "source": [
    "params = adam(autograd.grad(loss_function), params, step_size=0.01, num_iters=500, callback=callback)"
   ],
   "outputs": [
    {
     "output_type": "stream",
     "name": "stdout",
     "text": [
      "Epoch :   0, loss : 1.001095504533892\n",
      "Epoch : 100, loss : 0.5085559198622396\n",
      "Epoch : 200, loss : 0.01936304212953765\n",
      "Epoch : 300, loss : 0.0063358387081925\n",
      "Epoch : 400, loss : 0.0031025449065058795\n"
     ]
    }
   ],
   "metadata": {}
  },
  {
   "cell_type": "code",
   "execution_count": 32,
   "source": [
    "N = 1000\r\n",
    "x = np.linspace(0, L, N)[:, None]\r\n",
    "y = psi(params['nn_params'], x)\r\n",
    "error = 1/N*np.sum(y**2 - (np.sqrt(2/L)*np.sin(np.pi* x/L))**2)**2\r\n",
    "plt.plot(x, y**2, label='NN')\r\n",
    "plt.plot(x, (np.sqrt(2/L)*np.sin(np.pi* x/L))**2, 'r--', label='analytical')\r\n",
    "plt.ylabel('$\\psi(x)^2$')\r\n",
    "plt.xlabel('x')\r\n",
    "plt.title('$L=1$, $N=200$, error =' + str(error))\r\n",
    "plt.legend()\r\n",
    "plt.show()"
   ],
   "outputs": [
    {
     "output_type": "display_data",
     "data": {
      "image/png": "[encoded data removed]",
      "text/plain": [
       "<Figure size 432x288 with 1 Axes>"
      ]
     },
     "metadata": {
      "needs_background": "light"
     }
    }
   ],
   "metadata": {}
  }
 ],
 "metadata": {
  "orig_nbformat": 4,
  "language_info": {
   "name": "python",
   "version": "3.8.0",
   "mimetype": "text/x-python",
   "codemirror_mode": {
    "name": "ipython",
    "version": 3
   },
   "pygments_lexer": "ipython3",
   "nbconvert_exporter": "python",
   "file_extension": ".py"
  },
  "kernelspec": {
   "name": "python3",
   "display_name": "Python 3.8.0 64-bit ('tf2.4': conda)"
  },
  "interpreter": {
   "hash": "8edf8cbb509fdf3d46e061f30af3d9278aa0b7efb734bc4d8f02fc9816eea4c1"
  }
 },
 "nbformat": 4,
 "nbformat_minor": 2
}
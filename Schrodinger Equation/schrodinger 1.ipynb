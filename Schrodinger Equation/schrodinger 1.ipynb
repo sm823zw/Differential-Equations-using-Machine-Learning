{
 "cells": [
  {
   "cell_type": "code",
   "execution_count": 47,
   "source": [
    "import matplotlib.pyplot as plt\r\n",
    "import autograd.numpy as np\r\n",
    "import autograd\r\n",
    "from autograd.misc.optimizers import adam"
   ],
   "outputs": [],
   "metadata": {}
  },
  {
   "cell_type": "code",
   "execution_count": 68,
   "source": [
    "def initialize_nn(scale, n_neurons_per_layer):\r\n",
    "    params = []\r\n",
    "    for i, j in zip(n_neurons_per_layer[:-1], n_neurons_per_layer[1:]):\r\n",
    "        params.append((np.random.randn(i, j)*scale, np.random.randn(j)*scale))\r\n",
    "    return params\r\n",
    "\r\n",
    "def psi(nn_params, inputs):\r\n",
    "    for W, b in nn_params:\r\n",
    "        outputs = np.dot(inputs, W) + b\r\n",
    "        inputs = np.tanh(outputs)\r\n",
    "    return outputs\r\n",
    "\r\n",
    "psi_x = autograd.elementwise_grad(psi, 1)\r\n",
    "psi_xx = autograd.elementwise_grad(psi_x, 1)"
   ],
   "outputs": [],
   "metadata": {}
  },
  {
   "cell_type": "code",
   "execution_count": 69,
   "source": [
    "n_neurons_per_layer=[1, 40, 1]\r\n",
    "nn_params = initialize_nn(0.1, n_neurons_per_layer)\r\n",
    "\r\n",
    "params = {'nn_params': nn_params, 'E': 0.5}\r\n",
    "L = 1\r\n",
    "x = np.linspace(0, L, 200)[:, None]\r\n",
    "\r\n",
    "def loss_function(params, step):\r\n",
    "    nn_params = params['nn_params']\r\n",
    "    E = params['E']\r\n",
    "\r\n",
    "    first_term = - psi_xx(nn_params, x)  - E * psi(nn_params, x) \r\n",
    "\r\n",
    "    bc0 = psi(nn_params, 0.0)\r\n",
    "    bc1 = psi(nn_params, L)\r\n",
    "\r\n",
    "    psi_sq = psi(nn_params, x)**2\r\n",
    "\r\n",
    "    prob = np.sum((psi_sq[1:] + psi_sq[0:-1]) / 2 * (x[1:] - x[0:-1]))\r\n",
    "    \r\n",
    "    loss = np.mean(first_term**2) + bc0**2 + bc1**2 + (1.0 - prob)**2\r\n",
    "\r\n",
    "    return loss\r\n",
    "\r\n",
    "def callback(params, step, g):\r\n",
    "    if step % 100 == 0:\r\n",
    "        print(\"Epoch : {0:3d}, loss : {1}\".format(step, loss_function(params, step)[0][0]))"
   ],
   "outputs": [],
   "metadata": {}
  },
  {
   "cell_type": "code",
   "execution_count": 70,
   "source": [
    "params = adam(autograd.grad(loss_function), params, step_size=0.01, num_iters=5001, callback=callback) \r\n",
    "\r\n",
    "print(params['E'])"
   ],
   "outputs": [
    {
     "output_type": "stream",
     "name": "stdout",
     "text": [
      "Epoch :   0, loss : 1.000376123201019\n",
      "Epoch : 100, loss : 0.9764245645489614\n",
      "Epoch : 200, loss : 0.8247697563368624\n",
      "Epoch : 300, loss : 0.6217057336113205\n",
      "Epoch : 400, loss : 0.43346774429371104\n",
      "Epoch : 500, loss : 0.2766909886789752\n",
      "Epoch : 600, loss : 0.19899473703491144\n",
      "Epoch : 700, loss : 0.10849441193820604\n",
      "Epoch : 800, loss : 0.06682857477848489\n",
      "Epoch : 900, loss : 0.04071681279251741\n",
      "Epoch : 1000, loss : 0.025126107368088957\n",
      "Epoch : 1100, loss : 0.01587749847080424\n",
      "Epoch : 1200, loss : 0.011640274312580025\n",
      "Epoch : 1300, loss : 0.0067352951552911424\n",
      "Epoch : 1400, loss : 0.005146507302071748\n",
      "Epoch : 1500, loss : 0.0038212460638569964\n",
      "Epoch : 1600, loss : 0.04959072141323396\n",
      "Epoch : 1700, loss : 0.0028771812078264014\n",
      "Epoch : 1800, loss : 0.0026111587558122302\n",
      "Epoch : 1900, loss : 0.028096667453675783\n",
      "Epoch : 2000, loss : 0.002456718736037022\n",
      "Epoch : 2100, loss : 0.002381526272859675\n",
      "Epoch : 2200, loss : 0.0023403406260382544\n",
      "Epoch : 2300, loss : 0.002584558646381156\n",
      "Epoch : 2400, loss : 0.0023318025159500913\n",
      "Epoch : 2500, loss : 0.002306338898726169\n",
      "Epoch : 2600, loss : 0.002290542714553723\n",
      "Epoch : 2700, loss : 0.006175252623754253\n",
      "Epoch : 2800, loss : 0.002296848024920236\n",
      "Epoch : 2900, loss : 0.0022764340614920184\n",
      "Epoch : 3000, loss : 0.002263344827244419\n",
      "Epoch : 3100, loss : 0.002254707750576678\n",
      "Epoch : 3200, loss : 0.002301572450164089\n",
      "Epoch : 3300, loss : 0.002252988390532944\n",
      "Epoch : 3400, loss : 0.0022385776603374677\n",
      "Epoch : 3500, loss : 0.0022285097537520157\n",
      "Epoch : 3600, loss : 0.011393450534873948\n",
      "Epoch : 3700, loss : 0.0022372165558723735\n",
      "Epoch : 3800, loss : 0.0022163427697226225\n",
      "Epoch : 3900, loss : 0.0022029875518041033\n",
      "Epoch : 4000, loss : 0.002193308214978844\n",
      "Epoch : 4100, loss : 0.006788634432504243\n",
      "Epoch : 4200, loss : 0.0022067584663661146\n",
      "Epoch : 4300, loss : 0.00218218469346342\n",
      "Epoch : 4400, loss : 0.0021670334495163908\n",
      "Epoch : 4500, loss : 0.0021563968842681037\n",
      "Epoch : 4600, loss : 0.002147948645837238\n",
      "Epoch : 4700, loss : 0.002192386845408282\n",
      "Epoch : 4800, loss : 0.002145792520624361\n",
      "Epoch : 4900, loss : 0.0021278686346052613\n",
      "Epoch : 5000, loss : 0.0021157133820546197\n",
      "9.821122658539975\n"
     ]
    }
   ],
   "metadata": {}
  },
  {
   "cell_type": "code",
   "execution_count": 71,
   "source": [
    "N = 1000\r\n",
    "x = np.linspace(0, L, N)[:, None]\r\n",
    "y = psi(params['nn_params'], x)\r\n",
    "error = 1/N*np.sum(y**2 - (np.sqrt(2/L)*np.sin(np.pi* x/L))**2)**2\r\n",
    "plt.plot(x, y**2, label='NN')\r\n",
    "plt.plot(x, (np.sqrt(2/L)*np.sin(np.pi* x/L))**2, 'r--', label='analytical')\r\n",
    "plt.ylabel('$\\psi(x)^2$')\r\n",
    "plt.xlabel('x')\r\n",
    "plt.title('$L=1$, $N=200$, error =' + str(error))\r\n",
    "plt.legend()\r\n",
    "plt.show()"
   ],
   "outputs": [
    {
     "output_type": "display_data",
     "data": {
      "image/png": "[encoded data removed]",
      "text/plain": [
       "<Figure size 432x288 with 1 Axes>"
      ]
     },
     "metadata": {
      "needs_background": "light"
     }
    }
   ],
   "metadata": {}
  },
  {
   "cell_type": "code",
   "execution_count": null,
   "source": [
    "9.80\r\n",
    "9.81\r\n",
    "9.83"
   ],
   "outputs": [],
   "metadata": {}
  }
 ],
 "metadata": {
  "orig_nbformat": 4,
  "language_info": {
   "name": "python",
   "version": "3.8.0",
   "mimetype": "text/x-python",
   "codemirror_mode": {
    "name": "ipython",
    "version": 3
   },
   "pygments_lexer": "ipython3",
   "nbconvert_exporter": "python",
   "file_extension": ".py"
  },
  "kernelspec": {
   "name": "python3",
   "display_name": "Python 3.8.0 64-bit ('tf2.4': conda)"
  },
  "interpreter": {
   "hash": "8edf8cbb509fdf3d46e061f30af3d9278aa0b7efb734bc4d8f02fc9816eea4c1"
  }
 },
 "nbformat": 4,
 "nbformat_minor": 2
}
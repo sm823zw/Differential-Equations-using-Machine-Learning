{
 "cells": [
  {
   "cell_type": "code",
   "execution_count": 1,
   "source": [
    "import numpy as np\r\n",
    "import matplotlib.pyplot as plt\r\n",
    "from scipy.io import loadmat\r\n",
    "import tensorflow as tf"
   ],
   "outputs": [],
   "metadata": {}
  },
  {
   "cell_type": "code",
   "execution_count": 2,
   "source": [
    "physical_devices = tf.config.list_physical_devices('GPU') \r\n",
    "for device in physical_devices:\r\n",
    "    tf.config.experimental.set_memory_growth(device, True)"
   ],
   "outputs": [],
   "metadata": {}
  },
  {
   "cell_type": "code",
   "execution_count": 3,
   "source": [
    "d = loadmat('data.mat')['data']\r\n",
    "d.shape"
   ],
   "outputs": [
    {
     "output_type": "execute_result",
     "data": {
      "text/plain": [
       "(2500, 3)"
      ]
     },
     "metadata": {},
     "execution_count": 3
    }
   ],
   "metadata": {}
  },
  {
   "cell_type": "code",
   "execution_count": 4,
   "source": [
    "X = d[:, :2]\r\n",
    "U = d[:, 2]\r\n",
    "X.shape, U.shape"
   ],
   "outputs": [
    {
     "output_type": "execute_result",
     "data": {
      "text/plain": [
       "((2500, 2), (2500,))"
      ]
     },
     "metadata": {},
     "execution_count": 4
    }
   ],
   "metadata": {}
  },
  {
   "cell_type": "code",
   "execution_count": 5,
   "source": [
    "n_neurons = 10\r\n",
    "inputs = tf.keras.Input(shape=(2))\r\n",
    "x = tf.keras.layers.Dense(n_neurons, activation='tanh')(inputs)\r\n",
    "x = tf.keras.layers.Dense(n_neurons, activation='tanh')(x)\r\n",
    "x = tf.keras.layers.Dense(n_neurons, activation='tanh')(x)\r\n",
    "x = tf.keras.layers.Dense(n_neurons, activation='tanh')(x)\r\n",
    "x = tf.keras.layers.Dense(n_neurons, activation='tanh')(x)\r\n",
    "x = tf.keras.layers.Dense(n_neurons, activation='tanh')(x)\r\n",
    "x = tf.keras.layers.Dense(n_neurons, activation='tanh')(x)\r\n",
    "x = tf.keras.layers.Dense(n_neurons, activation='tanh')(x)\r\n",
    "x = tf.keras.layers.Dense(n_neurons, activation='tanh')(x)\r\n",
    "x = tf.keras.layers.Dense(1)(x)\r\n",
    "model = tf.keras.Model(inputs, x)\r\n",
    "model.summary()"
   ],
   "outputs": [
    {
     "output_type": "stream",
     "name": "stdout",
     "text": [
      "Model: \"model\"\n",
      "_________________________________________________________________\n",
      "Layer (type)                 Output Shape              Param #   \n",
      "=================================================================\n",
      "input_1 (InputLayer)         [(None, 2)]               0         \n",
      "_________________________________________________________________\n",
      "dense (Dense)                (None, 10)                30        \n",
      "_________________________________________________________________\n",
      "dense_1 (Dense)              (None, 10)                110       \n",
      "_________________________________________________________________\n",
      "dense_2 (Dense)              (None, 10)                110       \n",
      "_________________________________________________________________\n",
      "dense_3 (Dense)              (None, 10)                110       \n",
      "_________________________________________________________________\n",
      "dense_4 (Dense)              (None, 10)                110       \n",
      "_________________________________________________________________\n",
      "dense_5 (Dense)              (None, 10)                110       \n",
      "_________________________________________________________________\n",
      "dense_6 (Dense)              (None, 10)                110       \n",
      "_________________________________________________________________\n",
      "dense_7 (Dense)              (None, 10)                110       \n",
      "_________________________________________________________________\n",
      "dense_8 (Dense)              (None, 10)                110       \n",
      "_________________________________________________________________\n",
      "dense_9 (Dense)              (None, 1)                 11        \n",
      "=================================================================\n",
      "Total params: 921\n",
      "Trainable params: 921\n",
      "Non-trainable params: 0\n",
      "_________________________________________________________________\n"
     ]
    }
   ],
   "metadata": {}
  },
  {
   "cell_type": "code",
   "execution_count": 6,
   "source": [
    "lambda_1 = tf.Variable(0.0, trainable=True, dtype='float32')\r\n",
    "lambda_2 = tf.Variable(0.0, trainable=True, dtype='float32')\r\n",
    "lambda_1, lambda_2"
   ],
   "outputs": [
    {
     "output_type": "execute_result",
     "data": {
      "text/plain": [
       "(<tf.Variable 'Variable:0' shape=() dtype=float32, numpy=0.0>,\n",
       " <tf.Variable 'Variable:0' shape=() dtype=float32, numpy=0.0>)"
      ]
     },
     "metadata": {},
     "execution_count": 6
    }
   ],
   "metadata": {}
  },
  {
   "cell_type": "code",
   "execution_count": 7,
   "source": [
    "class NeuralNet(tf.keras.Model):\r\n",
    "    def __init__(self, model, lambda_1, lambda_2, **kwargs):\r\n",
    "        super(NeuralNet, self).__init__(**kwargs)\r\n",
    "        self.model = model\r\n",
    "        self.lambda_1 = lambda_1\r\n",
    "        self.lambda_2 = lambda_2\r\n",
    "        self.loss_tracker = tf.keras.metrics.Mean(name='loss')\r\n",
    "\r\n",
    "    @property\r\n",
    "    def metrics(self):\r\n",
    "        return [self.loss_tracker]\r\n",
    "\r\n",
    "    def call(self, X):\r\n",
    "        U = self.model(X)\r\n",
    "        return U\r\n",
    "    \r\n",
    "    def train_step(self, data):\r\n",
    "        X, y = data\r\n",
    "        y = tf.reshape(y, shape=(y.shape[0], 1))\r\n",
    "        with tf.GradientTape(persistent=True) as tape1:\r\n",
    "            tape1.watch(X)\r\n",
    "            with tf.GradientTape() as tape2:\r\n",
    "                tape2.watch(X)\r\n",
    "                U = self.model(X)\r\n",
    "                Uxt = tape2.gradient(U, X)\r\n",
    "                Ux = Uxt[:, 0:1]\r\n",
    "                Ut = Uxt[:, 1:2]\r\n",
    "            Uxx = tape1.gradient(Ux, X)[:, 0:1]\r\n",
    "            f = Ut + self.lambda_1*tf.multiply(U, Ux) - self.lambda_2*Uxx\r\n",
    "            loss = tf.reduce_mean(tf.reduce_sum(tf.keras.losses.mean_squared_error(U, y)))\r\n",
    "            loss += tf.reduce_mean(tf.reduce_sum(tf.keras.losses.mean_squared_error(f, 0.0)))\r\n",
    "        train_vars = self.model.trainable_variables\r\n",
    "        train_vars.append(self.lambda_1)\r\n",
    "        train_vars.append(self.lambda_2)\r\n",
    "        grads = tape1.gradient(loss, train_vars)\r\n",
    "        self.optimizer.apply_gradients(zip(grads, train_vars))\r\n",
    "\r\n",
    "        self.loss_tracker.update_state(loss)\r\n",
    "        return {\"loss\": self.loss_tracker.result()}"
   ],
   "outputs": [],
   "metadata": {}
  },
  {
   "cell_type": "code",
   "execution_count": 8,
   "source": [
    "nn = NeuralNet(model, lambda_1, lambda_2)"
   ],
   "outputs": [],
   "metadata": {}
  },
  {
   "cell_type": "code",
   "execution_count": 9,
   "source": [
    "nn.compile(optimizer=tf.keras.optimizers.Adam(learning_rate=0.01))\r\n",
    "learning_rate_reduction = tf.keras.callbacks.ReduceLROnPlateau(monitor='loss', patience=10, verbose=1, factor=0.001, min_lr=0.00001)"
   ],
   "outputs": [],
   "metadata": {}
  },
  {
   "cell_type": "code",
   "execution_count": null,
   "source": [
    "history = nn.fit(X, U, epochs=20000, batch_size=100, callbacks=[learning_rate_reduction])"
   ],
   "outputs": [],
   "metadata": {}
  },
  {
   "cell_type": "code",
   "execution_count": 11,
   "source": [
    "plt.plot(history.history['loss'])\r\n",
    "plt.title('model loss')\r\n",
    "plt.ylabel('loss')\r\n",
    "plt.xlabel('epoch')\r\n",
    "plt.show()"
   ],
   "outputs": [
    {
     "output_type": "display_data",
     "data": {
      "image/png": "[encoded data removed]",
      "text/plain": [
       "<Figure size 432x288 with 1 Axes>"
      ]
     },
     "metadata": {
      "needs_background": "light"
     }
    }
   ],
   "metadata": {}
  },
  {
   "cell_type": "code",
   "execution_count": 12,
   "source": [
    "lambda_1"
   ],
   "outputs": [
    {
     "output_type": "execute_result",
     "data": {
      "text/plain": [
       "<tf.Variable 'Variable:0' shape=() dtype=float32, numpy=0.88790715>"
      ]
     },
     "metadata": {},
     "execution_count": 12
    }
   ],
   "metadata": {}
  },
  {
   "cell_type": "code",
   "execution_count": 13,
   "source": [
    "lambda_2"
   ],
   "outputs": [
    {
     "output_type": "execute_result",
     "data": {
      "text/plain": [
       "<tf.Variable 'Variable:0' shape=() dtype=float32, numpy=0.004732143>"
      ]
     },
     "metadata": {},
     "execution_count": 13
    }
   ],
   "metadata": {}
  },
  {
   "cell_type": "code",
   "execution_count": null,
   "source": [],
   "outputs": [],
   "metadata": {}
  }
 ],
 "metadata": {
  "orig_nbformat": 4,
  "language_info": {
   "name": "python",
   "version": "3.8.0",
   "mimetype": "text/x-python",
   "codemirror_mode": {
    "name": "ipython",
    "version": 3
   },
   "pygments_lexer": "ipython3",
   "nbconvert_exporter": "python",
   "file_extension": ".py"
  },
  "kernelspec": {
   "name": "python3",
   "display_name": "Python 3.8.0 64-bit ('tf2.4': conda)"
  },
  "interpreter": {
   "hash": "8edf8cbb509fdf3d46e061f30af3d9278aa0b7efb734bc4d8f02fc9816eea4c1"
  }
 },
 "nbformat": 4,
 "nbformat_minor": 2
}